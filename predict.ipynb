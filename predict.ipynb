{
  "nbformat": 4,
  "nbformat_minor": 0,
  "metadata": {
    "colab": {
      "provenance": [],
      "authorship_tag": "ABX9TyOlzjBtmodUoJsVUS41XVzB",
      "include_colab_link": true
    },
    "kernelspec": {
      "name": "python3",
      "display_name": "Python 3"
    },
    "language_info": {
      "name": "python"
    },
    "accelerator": "GPU",
    "gpuClass": "standard"
  },
  "cells": [
    {
      "cell_type": "markdown",
      "metadata": {
        "id": "view-in-github",
        "colab_type": "text"
      },
      "source": [
        "<a href=\"https://colab.research.google.com/github/Yerkhatt/WeaponDetection/blob/main/predict.ipynb\" target=\"_parent\"><img src=\"https://colab.research.google.com/assets/colab-badge.svg\" alt=\"Open In Colab\"/></a>"
      ]
    },
    {
      "cell_type": "code",
      "execution_count": null,
      "metadata": {
        "id": "ywj1wZYcIv6T"
      },
      "outputs": [],
      "source": [
        "!git clone https://github.com/Yerkhatt/WeaponDetection\n",
        "%pip install ultralytics   # YOLO V8\n",
        "import ultralytics\n",
        "ultralytics.checks()\n",
        "\n",
        "from ultralytics import YOLO"
      ]
    },
    {
      "cell_type": "code",
      "source": [
        "model = YOLO('/content/WeaponDetection/model.pt')"
      ],
      "metadata": {
        "id": "H2et5RB1Lxgf"
      },
      "execution_count": 3,
      "outputs": []
    },
    {
      "cell_type": "code",
      "source": [
        "source = 'image.jpg'   # path to folder or file (imaages, videos)\n",
        "model.predict(source, save=True, imgsz=640, conf=0.5)\n",
        "# predictions will be saved to /content/runs/detect/\n",
        "# if after prediction file wasn't created refresh files "
      ],
      "metadata": {
        "id": "O4CL5egcLYlf"
      },
      "execution_count": null,
      "outputs": []
    }
  ]
}
